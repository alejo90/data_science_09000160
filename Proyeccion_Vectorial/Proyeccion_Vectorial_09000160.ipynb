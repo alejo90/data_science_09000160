{
 "cells": [
  {
   "cell_type": "markdown",
   "metadata": {},
   "source": [
    "###### Alejandro Sánchez 09000160 25/02/2019\n",
    "\n",
    "# Proyección Vectorial\n",
    "\n",
    "Si tenemos dos vectores, es posible *proyectar* uno sobre el otro. Supongamos que tenemos un vector `w` y un vector `v` y que queremos *proyectar* `w` sobre `v`. Podríamos imaginar una fuente de luz perpendicular a `v` que, al ser bloqueada por `w`, *proyectaría* la sombra de `w` sobre `v`. Esa sombra, que podríamos también interpretar como qué tanto de `w` hay en `v`, es la *proyección* de `w` sobre `v`, a la cual llamaremos `cv` en la imagen a continuación.\n",
    "\n",
    "![Proyección vectorial](vector_projection.png)*Proyección de w sobre v*\n",
    "\n",
    "En la imagen, el vector `w - cv`corresponde a la fuente de luz perpendicular a `v` que imaginamos cuando formulamos el ejemplo. En términos formales, se dice que `w - cv` es *ortogonal* a `v`. Matemáticamente, la *proyección* de `w` en `v` se define como:\n",
    "\n",
    "![Definición formal de proyección vectorial](projection_definition.png)*Definición formal de proyección vectorial*\n",
    "\n",
    "Podemos ver que en en el numerador tenemos el producto escalar de `w` y `v` y, en el denominador, la norma elevada al cuadrado del vector `v`, que también puede escribirse como el producto escalar entre `v` y `v`. El resultado de la división será un escalar que multiplicamos por el vector `v`. Así pues, la parte con la división entre el producto escalar de `w` y `v` y la norma al cuadrado de `v` nos da la magnitud del vector proyectado y la mutiplicación de esta por el vector `v`, nos da la dirección de dicho vector. \n",
    "Si implementamos la operación proyección de `w` sobre `v` en Python:"
   ]
  },
  {
   "cell_type": "code",
   "execution_count": 4,
   "metadata": {},
   "outputs": [],
   "source": [
    "import numpy as np\n",
    "\n",
    "def proyeccion(w, v):\n",
    "    return (np.dot(w, v) / np.dot(v, v)) * v"
   ]
  },
  {
   "cell_type": "markdown",
   "metadata": {},
   "source": [
    "Si el vector a proyectar es ortogonal (o dicho en otras palabras, perpendicular) al vector sobre el que queremos proyectarlo, el resultado será el vector nulo:"
   ]
  },
  {
   "cell_type": "code",
   "execution_count": 16,
   "metadata": {},
   "outputs": [
    {
     "name": "stdout",
     "output_type": "stream",
     "text": [
      "[ 0. -0.]\n"
     ]
    }
   ],
   "source": [
    "w = np.array([1, 2])\n",
    "v = np.array([2, -1])\n",
    "print(proyeccion(w, v))"
   ]
  },
  {
   "cell_type": "markdown",
   "metadata": {},
   "source": [
    "Si el ángulo entre ambos vectores es menor que 90 grados, la proyección tendrá la misma dirección del vector sobre el que se está proyectando:"
   ]
  },
  {
   "cell_type": "code",
   "execution_count": 24,
   "metadata": {},
   "outputs": [
    {
     "name": "stdout",
     "output_type": "stream",
     "text": [
      "[2.8 1.4]\n"
     ]
    }
   ],
   "source": [
    "w = np.array([1, 5])\n",
    "v = np.array([2, 1])\n",
    "print(proyeccion(w, v))"
   ]
  },
  {
   "cell_type": "markdown",
   "metadata": {},
   "source": [
    "Si, por el contrario, el ángulo entre ambos vectores es mayor que 90 grados, la proyección apuntará en la dirección contraria:"
   ]
  },
  {
   "cell_type": "code",
   "execution_count": 26,
   "metadata": {},
   "outputs": [
    {
     "name": "stdout",
     "output_type": "stream",
     "text": [
      "[-6. -3.]\n"
     ]
    }
   ],
   "source": [
    "w = np.array([-10, 5])\n",
    "v = np.array([2, 1])\n",
    "print(proyeccion(w, v))"
   ]
  },
  {
   "cell_type": "markdown",
   "metadata": {},
   "source": [
    "La proyección vectorial tiene muchas aplicaciones en varias áreas: desde regresiones que se usan para medir y minimizar riesgo hasta reducción de dimensionalidad en algoritmos de clasificación para machine learning."
   ]
  },
  {
   "cell_type": "markdown",
   "metadata": {},
   "source": [
    "### Referencias\n",
    "- https://www.khanacademy.org/math/linear-algebra/matrix-transformations/lin-trans-examples/v/introduction-to-projections\n",
    "- https://matthew-brett.github.io/teaching/vector_projection.html\n",
    "- https://en.wikipedia.org/wiki/Vector_projection"
   ]
  },
  {
   "cell_type": "code",
   "execution_count": null,
   "metadata": {},
   "outputs": [],
   "source": []
  }
 ],
 "metadata": {
  "kernelspec": {
   "display_name": "Python 3",
   "language": "python",
   "name": "python3"
  },
  "language_info": {
   "codemirror_mode": {
    "name": "ipython",
    "version": 3
   },
   "file_extension": ".py",
   "mimetype": "text/x-python",
   "name": "python",
   "nbconvert_exporter": "python",
   "pygments_lexer": "ipython3",
   "version": "3.7.1"
  }
 },
 "nbformat": 4,
 "nbformat_minor": 2
}
