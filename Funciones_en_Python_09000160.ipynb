{
 "cells": [
  {
   "cell_type": "markdown",
   "metadata": {},
   "source": [
    "###### Alejandro Sánchez 09000160 08/02/2019\n",
    "\n",
    "# Funciones en Python\n",
    "\n",
    "En términos generales, una función es una sección de un programa que ejecuta una tarea específica. Dicha sección puede o no tener un nombre con el cual otras partes del programa pueden referirse a ella. Si no tiene un nombre, se dice que la función es anónima. Las funciones, por lo general, reciben valores como entradas, llamados parámetros, y retornan un resultado. También es posible que uan función no reciba valor alguno y/o no retorne ningún valor, sino que simplemente ejecute cierto procedimiento.\n",
    "En *Python 3* específicamente, la sintaxis formal para definir una función se describe mediante la gramática:\n",
    "\n",
    "```\n",
    "funcdef                 ::=  [decorators] \"def\" funcname \"(\" [parameter_list] \")\"\n",
    "                             [\"->\" expression] \":\" suite\n",
    "decorators              ::=  decorator+\n",
    "decorator               ::=  \"@\" dotted_name [\"(\" [argument_list [\",\"]] \")\"] NEWLINE\n",
    "dotted_name             ::=  identifier (\".\" identifier)*\n",
    "parameter_list          ::=  defparameter (\",\" defparameter)* [\",\" [parameter_list_starargs]]\n",
    "                             | parameter_list_starargs\n",
    "parameter_list_starargs ::=  \"*\" [parameter] (\",\" defparameter)* [\",\" [\"**\" parameter [\",\"]]]\n",
    "                             | \"**\" parameter [\",\"]\n",
    "parameter               ::=  identifier [\":\" expression]\n",
    "defparameter            ::=  parameter [\"=\" expression]\n",
    "funcname                ::=  identifier\n",
    "```\n",
    "\n",
    "Dada la gramática anterior, una función en *Python* podría verse así:\n",
    "\n",
    "```python\n",
    "@decorator\n",
    "@decorator(decorator_arg)\n",
    "def function_name(arg, named_arg = value, *var_args, **keyword_args):\n",
    "    # code here...\n",
    "    return result\n",
    "```\n",
    "\n",
    "Pro ejemplo, una función que suma dos números y retorna el resultado:"
   ]
  },
  {
   "cell_type": "code",
   "execution_count": 2,
   "metadata": {},
   "outputs": [
    {
     "data": {
      "text/plain": [
       "7"
      ]
     },
     "execution_count": 2,
     "metadata": {},
     "output_type": "execute_result"
    }
   ],
   "source": [
    "def add(x, y):\n",
    "    return x + y\n",
    "\n",
    "# invocar función add\n",
    "add(2, 5)"
   ]
  },
  {
   "cell_type": "markdown",
   "metadata": {},
   "source": [
    "Ahora veamos una función que suma dos números e imprime el resultado; notar que esta función no retorna nada:"
   ]
  },
  {
   "cell_type": "code",
   "execution_count": 5,
   "metadata": {},
   "outputs": [
    {
     "name": "stdout",
     "output_type": "stream",
     "text": [
      "7\n"
     ]
    }
   ],
   "source": [
    "def add_and_print(x, y):\n",
    "    print(x + y)\n",
    "    \n",
    "# invocar función add_and_print\n",
    "add_and_print(2, 5)"
   ]
  },
  {
   "cell_type": "markdown",
   "metadata": {},
   "source": [
    "Algunas personas prefieren llamar *procedimientos* a las funciones que no retornan nada. De igual manera, hay funciones que no reciben nada:"
   ]
  },
  {
   "cell_type": "code",
   "execution_count": 7,
   "metadata": {},
   "outputs": [
    {
     "name": "stdout",
     "output_type": "stream",
     "text": [
      "Heisenberg\n"
     ]
    }
   ],
   "source": [
    "def say_my_name():\n",
    "    print('Heisenberg')\n",
    "    \n",
    "say_my_name()"
   ]
  },
  {
   "cell_type": "markdown",
   "metadata": {},
   "source": [
    "Se llama *parámetro* a cada una de las entradas de una función, de manera que una función que no recibe nada es una función sin *parámetros*. En ocasiones no sabemos cuántos valores vamos a recibir, o queremos crear una función que nos permita recibir cualquier cantidad de valores. Llamaremos *argumentos* a los valores que recibimos como *parámetros* en una función. Así que para recibir un número variable de *argumentos* podemos usar la sintaxis `*<nombre_de_tu_parámetro>`, que empaqueta los *argumentos* individuales en una tupla:  "
   ]
  },
  {
   "cell_type": "code",
   "execution_count": 40,
   "metadata": {},
   "outputs": [
    {
     "data": {
      "text/plain": [
       "0"
      ]
     },
     "execution_count": 40,
     "metadata": {},
     "output_type": "execute_result"
    }
   ],
   "source": [
    "def add_varargs(*varargs):\n",
    "    # hay mejores formas de hacer esto\n",
    "    # lo hacemos así para demostrar que\n",
    "    # varargs es, en efecto, una tupla\n",
    "    # conteniendo todos los argumentos\n",
    "    # que dimos a la función\n",
    "    sum = 0\n",
    "    \n",
    "    for i in varargs:\n",
    "        sum += i\n",
    "        \n",
    "    return sum\n",
    "\n",
    "# funciona con 5 argumentos\n",
    "add_varargs(1, 2, 3, 4, 5)\n",
    "# también funciona con 7 argumentos\n",
    "add_varargs(1, 2, 3, 4, 5, 6, 7)\n",
    "# y con un argumentos\n",
    "add_varargs(42)\n",
    "# y sin argumentos\n",
    "add_varargs()"
   ]
  },
  {
   "cell_type": "markdown",
   "metadata": {},
   "source": [
    "A veces los *argumentos* que necesitamos no son simplemente una lista donde todos pueden ser operados de la misma manera. Es posible que necesitemos dar un significado específico a cada uno y que, al llamar la función, se nos haga confuso qué *argumento* corresponde a qué parámetro. También podría ser que no necesitemos proveer todos los *argumentos* para la función y sería inconveniente tener que lidiar con asignar una valor a cada uno de los que no necesitamos. Para facilitar nuestro trabajo, *Python* soporta *parámetros nombrados* y la asignación de valores por defecto:"
   ]
  },
  {
   "cell_type": "code",
   "execution_count": 31,
   "metadata": {},
   "outputs": [
    {
     "name": "stdout",
     "output_type": "stream",
     "text": [
      "Heisengberg\n",
      "I am not in danger, Skyler. I AM the danger!\n",
      "\n",
      "Heisengberg\n",
      "If you don't know who I am, then maybe your best course is to tread lightly.\n",
      "\n",
      "Heisengberg\n",
      "I am the one who knocks!\n",
      "BAM!\n"
     ]
    }
   ],
   "source": [
    "def say_my_name_with_named_params(name, do_you_know_who_i_am, knock = False, i_am_the_danger = True):\n",
    "    print('Heisengberg')\n",
    "    \n",
    "    if knock:\n",
    "        print('I am the one who knocks!')\n",
    "        print('BAM!')\n",
    "        return\n",
    "    \n",
    "    if not do_you_know_who_i_am:\n",
    "        print(\"If you don't know who I am, then maybe your best course is to tread lightly.\")\n",
    "        \n",
    "    if i_am_the_danger:\n",
    "        print(f\"I am not in danger, {name}. I AM the danger!\")\n",
    "        \n",
    "# dejemos los valores por defecto de los argumentos\n",
    "say_my_name_with_named_params(\"Skyler\", True)\n",
    "\n",
    "# intentemos de nuevo\n",
    "print()\n",
    "\n",
    "# pasemos el último, pero no toquemos\n",
    "say_my_name_with_named_params(\"Hank\", False, i_am_the_danger = False)\n",
    "\n",
    "# intentemos de nuevo\n",
    "print()\n",
    "\n",
    "# y si tocamos, \n",
    "# notemos que no es obligatorio usar el nombre del parámetro\n",
    "# porque, en este caso, estamos pasando el argumento por posición \n",
    "say_my_name_with_named_params(\"Gus\", True, True)"
   ]
  },
  {
   "cell_type": "markdown",
   "metadata": {},
   "source": [
    "También podría interesarnos pasar un número variable de *argumentos* a una función y darles un nombre, en cuyo caso podemos usar la sintaxis especial `**<nombre_de_tu_parámetro>`:"
   ]
  },
  {
   "cell_type": "code",
   "execution_count": 1,
   "metadata": {},
   "outputs": [
    {
     "name": "stdout",
     "output_type": "stream",
     "text": [
      "Ventas del mes:\n",
      "  heisenberg: 12M\n",
      "  gus: 9M\n",
      "  tuco: 1M\n"
     ]
    }
   ],
   "source": [
    "def sales(message, **kwargs):\n",
    "    print(message)\n",
    "    \n",
    "    for name, amount in kwargs.items():\n",
    "        print(f\"  {name}: {amount}\")\n",
    "        \n",
    "sales(\"Ventas del mes:\", heisenberg = \"12M\", gus = \"9M\", tuco = \"1M\")"
   ]
  },
  {
   "cell_type": "markdown",
   "metadata": {},
   "source": [
    "Así como podemos pasar varios *argumentos* a una función, también podemos retornar múltiples valores a la vez usando tuplas:"
   ]
  },
  {
   "cell_type": "code",
   "execution_count": 14,
   "metadata": {},
   "outputs": [
    {
     "name": "stdout",
     "output_type": "stream",
     "text": [
      "My enemies are: ('Gus', 'Tío', 'Don Heladio', 'Tuco')\n",
      "Villano uno: Gus\n",
      "Villano dos: Tío\n",
      "Otros villanos: ['Don Heladio', 'Tuco']\n"
     ]
    }
   ],
   "source": [
    "def villains():\n",
    "    return (\"Gus\", \"Tío\", \"Don Heladio\", \"Tuco\")\n",
    "\n",
    "# podemos usar la tupla completa\n",
    "print(\"My enemies are:\", villains())\n",
    "\n",
    "# o extrar sus valores\n",
    "villain_one, villain_two, *other_villains = villains()\n",
    "\n",
    "print(\"Villano uno:\", villain_one)\n",
    "print(\"Villano dos:\", villain_two)\n",
    "print(\"Otros villanos:\", other_villains)"
   ]
  },
  {
   "cell_type": "markdown",
   "metadata": {},
   "source": [
    "En *Python*, las funciones son objetos, tal como los otros valores que conocemos (pensemos en listas, números, tuplas, etc.) y, por lo tanto, podemos asignarlos a variables e, incluso, pasarlas como *argumentos* a otras funciones:"
   ]
  },
  {
   "cell_type": "code",
   "execution_count": 32,
   "metadata": {},
   "outputs": [
    {
     "name": "stdout",
     "output_type": "stream",
     "text": [
      "[1, 4, 9, 16]\n",
      "[1, 8, 27, 64]\n"
     ]
    }
   ],
   "source": [
    "def square(value):\n",
    "    return value ** 2\n",
    "\n",
    "def cube(value):\n",
    "    return value ** 3\n",
    "\n",
    "def square_or_cube(is_square):\n",
    "    return square if is_square else cube\n",
    "    \n",
    "# el valor de action ahora es la función square_or_cube\n",
    "action = square_or_cube\n",
    "\n",
    "def poor_mans_map(collection, fn):\n",
    "    result = []\n",
    "    \n",
    "    for value in collection:\n",
    "        result.append(fn(value))\n",
    "        \n",
    "    return result\n",
    "\n",
    "# aplicar la función action, que es el resultado de square_or_cube,\n",
    "# a cada elemento de la lista\n",
    "print(poor_mans_map([1, 2, 3, 4], action(True)))\n",
    "\n",
    "# podemos seguir usando poor_mans_map para aplicar\n",
    "# una función a cada elemento, pero ahora aplicando\n",
    "# la función cube en vez de square\n",
    "print(poor_mans_map(range(1, 5), square_or_cube(False)))"
   ]
  },
  {
   "cell_type": "markdown",
   "metadata": {},
   "source": [
    "Llamaremos *función de order superior* a cualquier función que puede recibir otra función como argumento, o bien, que retorna otra función como resultado. En el caso anterior, `poor_mans_map` es una *función de order superior* porque recibe `fn`, que es otra función, y `square_or_cube` también lo es porque retorna otra función. Finalmente, podemos ahorrarnos usando funciones anónimas, a las cuales llamaremos *funciones lambda*, cuando queremos definir funciones con una sintaxis más corta y/o que contienen funcionalidad que no nos interesa reutilizar:"
   ]
  },
  {
   "cell_type": "code",
   "execution_count": 39,
   "metadata": {},
   "outputs": [
    {
     "name": "stdout",
     "output_type": "stream",
     "text": [
      "[2, 4]\n"
     ]
    }
   ],
   "source": [
    "def poor_mans_filter(collection, fn):\n",
    "    result = []\n",
    "    \n",
    "    for value in collection:\n",
    "        if fn(value):\n",
    "            result.append(value)\n",
    "            \n",
    "    return result\n",
    "\n",
    "# lambda x: x % 2 == 0 es equivalente a definir\n",
    "#\n",
    "#   def is_even(x):\n",
    "#     return x % 2 == 0\n",
    "#\n",
    "# como en este caso no nos interesa reutilizarla,\n",
    "# la definimos sin un nombre con el cual \n",
    "# referirnos a ella e inline como argumento de poor_mans_filter\n",
    "print(poor_mans_filter([1, 2, 3, 4, 5], lambda x: x % 2 == 0))"
   ]
  },
  {
   "cell_type": "markdown",
   "metadata": {},
   "source": [
    "### Referencias\n",
    "- https://docs.python.org/3/reference/compound_stmts.html#function-definition\n",
    "- https://www.webopedia.com/TERM/F/function.html\n",
    "- Experiencia propia"
   ]
  },
  {
   "cell_type": "code",
   "execution_count": null,
   "metadata": {},
   "outputs": [],
   "source": []
  }
 ],
 "metadata": {
  "kernelspec": {
   "display_name": "Python 3",
   "language": "python",
   "name": "python3"
  },
  "language_info": {
   "codemirror_mode": {
    "name": "ipython",
    "version": 3
   },
   "file_extension": ".py",
   "mimetype": "text/x-python",
   "name": "python",
   "nbconvert_exporter": "python",
   "pygments_lexer": "ipython3",
   "version": "3.7.1"
  }
 },
 "nbformat": 4,
 "nbformat_minor": 2
}
